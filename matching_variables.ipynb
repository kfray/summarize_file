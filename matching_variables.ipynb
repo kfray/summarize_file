{
 "cells": [
  {
   "cell_type": "markdown",
   "metadata": {},
   "source": [
    "#Match variables to common features\n",
    "If you have a csv file with the variable names, their file paths, and a list of common features they can generate ( a string with features separated by \" : \" ) for a given client,  you can match them to \"common features\" (here in the \"common_variables.csv:). This will produce a .csv .\n",
    "\n",
    "The file from which variables should be matched should have the first three rows look like this:\n",
    "\n",
    " common_var: common_var : common_var , file_path , var_in_filepath \n",
    " \n",
    " \n",
    "per line of .csv ."
   ]
  },
  {
   "cell_type": "markdown",
   "metadata": {},
   "source": [
    "###This is easiest to produce when using  '''summarize_file''' module and its '''make_stats_dir''' function."
   ]
  },
  {
   "cell_type": "code",
   "execution_count": 85,
   "metadata": {
    "collapsed": true
   },
   "outputs": [],
   "source": [
    "import pandas as pd"
   ]
  },
  {
   "cell_type": "code",
   "execution_count": 80,
   "metadata": {
    "collapsed": false
   },
   "outputs": [],
   "source": [
    "to_file=\"common_variables.csv\"\n",
    "to_df=pd.read_csv(to_file)\n",
    "to_df[\"matched_path\"]= None\n",
    "to_df[\"matched_variable\"]= None\n",
    "from_file=\"may_28_variables.csv\"\n",
    "from_df=pd.read_csv(from_file)\n"
   ]
  },
  {
   "cell_type": "code",
   "execution_count": 81,
   "metadata": {
    "collapsed": false
   },
   "outputs": [],
   "source": [
    "\n",
    "def match_var(to_df, from_df):\n",
    "    for i in range(len(from_df.iloc[:,0])):\n",
    "        variables=[var.strip() for var in from_df.iloc[i,0].split(\":\")]\n",
    "        for j in range(len(to_df.iloc[:,0])):\n",
    "            if str(to_df.iloc[j,0]).strip() in variables:\n",
    "                if to_df.iloc[j,1]:\n",
    "                    to_df.iloc[j,1]=str(to_df.iloc[j,1])+ \" : \"+ str(from_df.iloc[i,1])\n",
    "                    to_df.iloc[j,2]=str(to_df.iloc[j,2])+ \" : \" + str(from_df.iloc[i,2])\n",
    "                else:\n",
    "                    to_df.iloc[j,1]=str(from_df.iloc[i,1])\n",
    "                    to_df.iloc[j,2]=str(from_df.iloc[i,2])\n",
    "    return to_df\n",
    "\n",
    "matched_var = match_var(to_df, from_df)"
   ]
  },
  {
   "cell_type": "code",
   "execution_count": null,
   "metadata": {
    "collapsed": false
   },
   "outputs": [],
   "source": []
  },
  {
   "cell_type": "code",
   "execution_count": 83,
   "metadata": {
    "collapsed": true
   },
   "outputs": [],
   "source": [
    "matched_var.to_csv(\"vancouver_var_match.csv\")"
   ]
  },
  {
   "cell_type": "code",
   "execution_count": null,
   "metadata": {
    "collapsed": true
   },
   "outputs": [],
   "source": []
  }
 ],
 "metadata": {
  "kernelspec": {
   "display_name": "Python 2",
   "language": "python",
   "name": "python2"
  },
  "language_info": {
   "codemirror_mode": {
    "name": "ipython",
    "version": 2
   },
   "file_extension": ".py",
   "mimetype": "text/x-python",
   "name": "python",
   "nbconvert_exporter": "python",
   "pygments_lexer": "ipython2",
   "version": "2.7.8"
  }
 },
 "nbformat": 4,
 "nbformat_minor": 0
}
